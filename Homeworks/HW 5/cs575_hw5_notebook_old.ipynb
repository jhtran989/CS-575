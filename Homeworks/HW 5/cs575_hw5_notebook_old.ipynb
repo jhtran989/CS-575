{
 "cells": [
  {
   "cell_type": "code",
   "execution_count": 46,
   "metadata": {
    "collapsed": true
   },
   "outputs": [],
   "source": [
    "import numpy as np\n",
    "from numpy.linalg import cond, norm\n",
    "import time\n",
    "import matplotlib.pyplot as plt\n",
    "from scipy.linalg import hilbert\n",
    "from math import sin, cos, pow\n",
    "\n",
    "from prettytable import PrettyTable\n",
    "\n",
    "%matplotlib inline"
   ]
  },
  {
   "cell_type": "code",
   "execution_count": 47,
   "outputs": [],
   "source": [
    "# Problem 4\n",
    "# Hilbert matrices"
   ],
   "metadata": {
    "collapsed": false
   }
  },
  {
   "cell_type": "code",
   "execution_count": 48,
   "outputs": [
    {
     "name": "stdout",
     "output_type": "stream",
     "text": [
      "+-------------------------+------------------+\n",
      "| Hilbert matrix size (N) | condition number |\n",
      "+-------------------------+------------------+\n",
      "|            8            |   1.525758e+10   |\n",
      "|            9            |   4.931534e+11   |\n",
      "|            10           |   1.602503e+13   |\n",
      "|            11           |   5.220207e+14   |\n",
      "|            12           |   1.621164e+16   |\n",
      "+-------------------------+------------------+\n"
     ]
    }
   ],
   "source": [
    "# part a\n",
    "\n",
    "n_low = 8\n",
    "n_high = 12\n",
    "\n",
    "n_array = np.array(range(n_low, n_high + 1))\n",
    "cond_list = []\n",
    "\n",
    "for n in n_array:\n",
    "    curr_hilb = hilbert(n)\n",
    "    cond_list.append(cond(curr_hilb))\n",
    "\n",
    "table = PrettyTable()\n",
    "table.field_names = [\"Hilbert matrix size (N)\", \"condition number\"]\n",
    "table.add_rows(\n",
    "    [\n",
    "        [n, f\"{cond_num: e}\"] for n, cond_num in zip(n_array, cond_list)\n",
    "    ]\n",
    ")\n",
    "\n",
    "print(table)"
   ],
   "metadata": {
    "collapsed": false
   }
  },
  {
   "cell_type": "code",
   "execution_count": 49,
   "outputs": [
    {
     "name": "stdout",
     "output_type": "stream",
     "text": [
      "+-------------------------+------------------------------------------------------------+\n",
      "| Hilbert matrix size (N) |                     solution vector x                      |\n",
      "+-------------------------+------------------------------------------------------------+\n",
      "|            8            | [0.9999999999681907 1.0000000016822066 0.9999999782000777  |\n",
      "|                         |  1.0000001174172146 0.9999996848830713 1.0000004448897650  |\n",
      "|                         |           0.9999996839051423 1.0000000890763439]           |\n",
      "|            9            | [0.9999999998088036 1.0000000130887288 0.9999997796130058  |\n",
      "|                         |  1.0000015674037004 0.9999942673865873 1.0000116780493731  |\n",
      "|                         |  0.9999866137742437 1.0000080725488052 0.9999980081985083] |\n",
      "|            10           | [0.9999999988121090 1.0000001004503016 0.9999978957924024  |\n",
      "|                         |  1.0000188750065389 0.9999109586890151 1.0002425099467109  |\n",
      "|                         |  0.9996052623095678 1.0003788560225120 0.9998022952831284  |\n",
      "|                         |                     1.0000432483796637]                    |\n",
      "|            11           | [0.9999999958426009 1.0000004222705359 0.9999893051088595  |\n",
      "|                         |  1.0001172564692462 0.9993127363607148 1.0023832424312256  |\n",
      "|                         |  0.9948719161340677 1.0069195945055029 0.9943037786753380  |\n",
      "|                         |           1.0026145788086986 0.9994871714243700]           |\n",
      "|            12           | [0.9999999528179779 1.0000059096165135 0.9998158495003417  |\n",
      "|                         |  1.0024906029623015 0.9818522445253225 1.0793319375135959  |\n",
      "|                         |  0.7799196038043006 1.3968785552237171 0.5362388104715811  |\n",
      "|                         |  1.3386630883813226 0.8595581443147454 1.0252453298241522] |\n",
      "+-------------------------+------------------------------------------------------------+\n"
     ]
    }
   ],
   "source": [
    "# part d\n",
    "\n",
    "n_low = 8\n",
    "n_high = 12\n",
    "\n",
    "n_array = np.array(range(n_low, n_high + 1))\n",
    "hilb_list = []\n",
    "b_list = []\n",
    "x_list = []\n",
    "\n",
    "for n in n_array:\n",
    "    curr_hilb = hilbert(n)\n",
    "\n",
    "    # use formula for b given (sum of the rows in A)\n",
    "    curr_b = np.sum(curr_hilb, axis=1)\n",
    "\n",
    "    curr_x = np.linalg.solve(np.copy(curr_hilb), np.copy(curr_b))\n",
    "\n",
    "    hilb_list.append(curr_hilb)\n",
    "    b_list.append(curr_b)\n",
    "    x_list.append(curr_x)\n",
    "\n",
    "# format to print 16 digits of precision\n",
    "float_formatter = \"{:.16f}\".format\n",
    "np.set_printoptions(formatter={'float_kind': float_formatter})\n",
    "\n",
    "table = PrettyTable()\n",
    "table.field_names = [\"Hilbert matrix size (N)\", \"solution vector x\"]\n",
    "table.add_rows(\n",
    "    [\n",
    "        [n, x] for n, x in zip(n_array, x_list)\n",
    "    ]\n",
    ")\n",
    "\n",
    "print(table)\n",
    "\n",
    "# remember to reset the print options for numpy\n",
    "np.set_printoptions(formatter={'float_kind': None})"
   ],
   "metadata": {
    "collapsed": false
   }
  },
  {
   "cell_type": "code",
   "execution_count": 56,
   "outputs": [
    {
     "name": "stdout",
     "output_type": "stream",
     "text": [
      "[1. 1. 1. 1. 1. 1. 1. 1.]\n",
      "[1.         1.         0.99999998 1.00000012 0.99999968 1.00000044\n",
      " 0.99999968 1.00000009]\n",
      "[1. 1. 1. 1. 1. 1. 1. 1. 1.]\n",
      "[1.         1.00000001 0.99999978 1.00000157 0.99999427 1.00001168\n",
      " 0.99998661 1.00000807 0.99999801]\n",
      "[1. 1. 1. 1. 1. 1. 1. 1. 1. 1.]\n",
      "[1.         1.0000001  0.9999979  1.00001888 0.99991096 1.00024251\n",
      " 0.99960526 1.00037886 0.9998023  1.00004325]\n",
      "[1. 1. 1. 1. 1. 1. 1. 1. 1. 1. 1.]\n",
      "[1.         1.00000042 0.99998931 1.00011726 0.99931274 1.00238324\n",
      " 0.99487192 1.00691959 0.99430378 1.00261458 0.99948717]\n",
      "[1. 1. 1. 1. 1. 1. 1. 1. 1. 1. 1. 1.]\n",
      "[0.99999995 1.00000591 0.99981585 1.0024906  0.98185224 1.07933194\n",
      " 0.7799196  1.39687856 0.53623881 1.33866309 0.85955814 1.02524533]\n",
      "+-------------------------+----------------------------+------------------------+\n",
      "| Hilbert matrix size (N) | relative error in solution |        residual        |\n",
      "+-------------------------+----------------------------+------------------------+\n",
      "|            8            |        2.289490e-07        | 6.558244241556096e-17  |\n",
      "|            9            |        6.831866e-06        | 1.324188329850844e-16  |\n",
      "|            10           |        2.018434e-04        | 1.6160436568167624e-16 |\n",
      "|            11           |        3.301377e-03        | 2.119561965201541e-16  |\n",
      "|            12           |        2.165459e-01        | 1.3793022792304736e-16 |\n",
      "+-------------------------+----------------------------+------------------------+\n"
     ]
    }
   ],
   "source": [
    "# part f\n",
    "# use the lists from above\n",
    "\n",
    "relative_error_solution_list = []\n",
    "residual_list = []\n",
    "\n",
    "for n, hilb, b, x in zip(n_array, hilb_list, b_list, x_list):\n",
    "    x_true = np.ones((n, ))\n",
    "    print(f\"{x_true}\")\n",
    "    print(f\"{x}\")\n",
    "    curr_relative_error_solution = norm(x_true - x) / norm(x_true)\n",
    "\n",
    "    curr_residual = norm(b - hilb @ x) / norm(b)\n",
    "\n",
    "    relative_error_solution_list.append(curr_relative_error_solution)\n",
    "    residual_list.append(curr_residual)\n",
    "\n",
    "table = PrettyTable()\n",
    "table.field_names = [\"Hilbert matrix size (N)\", \"relative error in solution\", \"residual\"]\n",
    "table.add_rows(\n",
    "    [\n",
    "        [n, f\"{relative_error_solution: e}\", residual]\n",
    "        for n, relative_error_solution, residual in zip(n_array,\n",
    "                                                        relative_error_solution_list,\n",
    "                                                        residual_list)\n",
    "    ]\n",
    ")\n",
    "\n",
    "print(table)"
   ],
   "metadata": {
    "collapsed": false
   }
  },
  {
   "cell_type": "code",
   "execution_count": 51,
   "outputs": [],
   "source": [
    "# Problem 6\n",
    "# Cancellation, Precision and Loss of Precision"
   ],
   "metadata": {
    "collapsed": false
   }
  },
  {
   "cell_type": "code",
   "execution_count": 52,
   "outputs": [
    {
     "name": "stdout",
     "output_type": "stream",
     "text": [
      "+---------+--------------------+\n",
      "|    x    |        f(x)        |\n",
      "+---------+--------------------+\n",
      "| 1.2e-08 | 0.7709882115452477 |\n",
      "+---------+--------------------+\n"
     ]
    }
   ],
   "source": [
    "# part a\n",
    "\n",
    "f = lambda x: (1 - cos(x)) / pow(x, 2)\n",
    "x_val = 1.2e-8\n",
    "\n",
    "table = PrettyTable()\n",
    "table.field_names = [\"x\", \"f(x)\"]\n",
    "table.add_rows(\n",
    "    [\n",
    "        [x_val, f(x_val)]\n",
    "    ]\n",
    ")\n",
    "\n",
    "print(table)"
   ],
   "metadata": {
    "collapsed": false
   }
  },
  {
   "cell_type": "code",
   "execution_count": 53,
   "outputs": [
    {
     "name": "stdout",
     "output_type": "stream",
     "text": [
      "+---------+------+\n",
      "|    x    | f(x) |\n",
      "+---------+------+\n",
      "| 1.2e-08 | 0.5  |\n",
      "+---------+------+\n"
     ]
    }
   ],
   "source": [
    "# part c\n",
    "\n",
    "# f = lambda x: (1 - (1 - (2 * pow(sin(x / 2), 2)))) / pow(x, 2)\n",
    "f = lambda x: (2 * pow(sin(x / 2), 2)) / pow(x, 2)\n",
    "x_val = 1.2e-8\n",
    "\n",
    "table = PrettyTable()\n",
    "table.field_names = [\"x\", \"f(x)\"]\n",
    "table.add_rows(\n",
    "    [\n",
    "        [x_val, f(x_val)]\n",
    "    ]\n",
    ")\n",
    "\n",
    "print(table)"
   ],
   "metadata": {
    "collapsed": false
   }
  },
  {
   "cell_type": "code",
   "execution_count": 54,
   "outputs": [
    {
     "name": "stdout",
     "output_type": "stream",
     "text": [
      "a\n"
     ]
    }
   ],
   "source": [
    "print(\"a\")"
   ],
   "metadata": {
    "collapsed": false
   }
  }
 ],
 "metadata": {
  "kernelspec": {
   "display_name": "Python 3",
   "language": "python",
   "name": "python3"
  },
  "language_info": {
   "codemirror_mode": {
    "name": "ipython",
    "version": 2
   },
   "file_extension": ".py",
   "mimetype": "text/x-python",
   "name": "python",
   "nbconvert_exporter": "python",
   "pygments_lexer": "ipython2",
   "version": "2.7.6"
  }
 },
 "nbformat": 4,
 "nbformat_minor": 0
}
