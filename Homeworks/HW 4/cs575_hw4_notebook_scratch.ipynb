{
 "cells": [
  {
   "cell_type": "code",
   "execution_count": 1,
   "metadata": {
    "collapsed": true
   },
   "outputs": [],
   "source": [
    "import numpy as np\n",
    "import time\n",
    "import matplotlib.pyplot as plt\n",
    "from prettytable import PrettyTable\n",
    "\n",
    "%matplotlib inline"
   ]
  },
  {
   "cell_type": "code",
   "execution_count": 2,
   "outputs": [],
   "source": [
    "# NOTE: all the code below were adapted from the trigiagonal_matrix_fun.ipnb notebook under the Codes section"
   ],
   "metadata": {
    "collapsed": false
   }
  },
  {
   "cell_type": "code",
   "execution_count": 11,
   "outputs": [],
   "source": [
    "def create_tri_mat(N):\n",
    "    \"\"\"\n",
    "    Creates a vector of size N x 3 to store the tridiagonal matrix A\n",
    "\n",
    "    The first column stores the sub-diagonal (-2 values from second element onwards)\n",
    "    The second column stores the main diagonal (10 values along the entire column)\n",
    "    The third column stores the super-diagonal (-4 values from the first element up till the second to last element)\n",
    "\n",
    "    :param N:\n",
    "    :return:\n",
    "    \"\"\"\n",
    "\n",
    "    A_tri = np.zeros((N, 3))\n",
    "\n",
    "    # sub-diagonal\n",
    "    A_tri[1:N, 0] = -2 * np.ones((N - 1, ))\n",
    "\n",
    "    # diagonal\n",
    "    A_tri[0:N, 1] = 10 * np.ones((N, ))\n",
    "\n",
    "    # super-diagonal\n",
    "    A_tri[0:N - 1, 2] = -4 * np.ones((N - 1, ))\n",
    "\n",
    "    # print(f\"INSIDE A-tri: {A_tri}\")\n",
    "\n",
    "    return A_tri\n"
   ],
   "metadata": {
    "collapsed": false
   }
  },
  {
   "cell_type": "code",
   "execution_count": 4,
   "outputs": [],
   "source": [
    "def create_dense_mat(A_tri, N):\n",
    "    \"\"\"\n",
    "    Creates a dense matrix using the tridiagonal format of A\n",
    "\n",
    "    Fills in the dense format of A row by row, using the index i for the main diagonal (interval from [i - 1, i + 1])\n",
    "    For the edge cases (i.e., first and last rows), we check if the column index j is within range (doesn't go out of\n",
    "     bounds)\n",
    "\n",
    "    :param A_tri:\n",
    "    :param N:\n",
    "    :return:\n",
    "    \"\"\"\n",
    "    A_dense = np.zeros((N, N))\n",
    "\n",
    "    # go over all rows\n",
    "    for i in range(N):\n",
    "        # only 3 non-zero entries in each row\n",
    "        # this will go through entries (i,i-1), (i,i) and (i,i+1)\n",
    "        for j in range(i - 1, i + 2):\n",
    "            if 0 <= j <= N - 1:\n",
    "                A_dense[i, j] = A_tri[i, j - i + 1]\n",
    "\n",
    "    return A_dense\n"
   ],
   "metadata": {
    "collapsed": false
   }
  },
  {
   "cell_type": "code",
   "execution_count": 5,
   "outputs": [],
   "source": [
    "def tri_mat_vec(A_tri, x):\n",
    "    \"\"\"\n",
    "    Takes in\n",
    "\n",
    "    :param A_tri:\n",
    "    :param x:\n",
    "    :return:\n",
    "    \"\"\"\n",
    "\n",
    "    N = len(x)\n",
    "    y = np.zeros((N, ))\n",
    "\n",
    "    # go over all rows\n",
    "    for i in range(N):\n",
    "        # this will go through entries (i,i-1), (i,i) and (i,i+1)\n",
    "        for j in range(i - 1, i + 2):\n",
    "            if 0 <= j <= N-1:\n",
    "                y[i] += A_tri[i, j - i + 1] * x[j]\n",
    "\n",
    "    return y\n"
   ],
   "metadata": {
    "collapsed": false
   }
  },
  {
   "cell_type": "code",
   "execution_count": 6,
   "outputs": [],
   "source": [
    "def back_sub_tri(A_tri, b, x, n):\n",
    "    \"\"\"\n",
    "    The part of Gaussian Elimination that does the backward substitution (can be reused in both versions without row swapping and with partial pivoting)\n",
    "\n",
    "    Note: need to pass n from the parent function (Gaussian Elimination that determines the size of A and b)\n",
    "\n",
    "    :param A: square matrix of size n x n (already performed forward elimination where A is an upper triangular matrix)\n",
    "    :param b: column vector of size n x 1\n",
    "    :param x: solution vector x to Ax = b\n",
    "    :param n: size n from A and b\n",
    "    :return:\n",
    "    \"\"\"\n",
    "\n",
    "    # need to find multiplier for last element (just the last element in the main diagonal -- middle element)\n",
    "    x[n - 1] = b[n - 1] / A_tri[n - 1][1]\n",
    "\n",
    "    for i in reversed(range(0, n - 1)):\n",
    "        temp = b[i]\n",
    "\n",
    "        # only need to subtract the right term (super-diagonal) only nonzero term -- only diagonal and super-diagonal\n",
    "        # since the super-diagonal is shifted up by 1, use j - 1 or i\n",
    "        j = i + 1\n",
    "        temp = temp - (A_tri[i][2] * x[j])\n",
    "\n",
    "        # update using the middle element (main diagonal) in the ith row\n",
    "        x[i] = temp / A_tri[i][1]\n"
   ],
   "metadata": {
    "collapsed": false
   }
  },
  {
   "cell_type": "code",
   "execution_count": 7,
   "outputs": [],
   "source": [
    "def forward_elim_no_row_swap_tri(A_tri, b, n):\n",
    "    \"\"\"\n",
    "    The part of Gaussian Elimination that does the forward elimination (only for version without row swapping)\n",
    "\n",
    "    Note: need to pass n from the parent function (Gaussian Elimination that determines the size of A and b)\n",
    "\n",
    "    :param A_tri: square matrix of size n x n\n",
    "    :param b: column vector of size n x 1\n",
    "    :param n: size n from A and b\n",
    "    :return:\n",
    "    \"\"\"\n",
    "\n",
    "    for k in range(n - 1):\n",
    "        # only need to eliminate one row per step (the immediate row below the current row)\n",
    "        i = k + 1\n",
    "\n",
    "        # find multiplier to zero out A[i][k] in the ith row\n",
    "        # so, divide the left element (sub-diagonal) by the middle element (middle diagonal)\n",
    "        # remember that the sub-diagonal is shifted to the right (starts at the second element) -> k + 1 or i\n",
    "        # print(f\"left: {A_tri[0][i]}\")\n",
    "        # print(f\"right: {A_tri[1][k]}\")\n",
    "        x_mult = A_tri[i][0] / A_tri[k][1]\n",
    "\n",
    "        if DEBUG:\n",
    "            print(f\"x mult: {x_mult}\")\n",
    "\n",
    "        # typo in pseudocode, should be set to 0 instead of x_mult\n",
    "        # set the left element (sub-diagonal) to 0\n",
    "        A_tri[i][0] = 0\n",
    "\n",
    "        # update ith row of A\n",
    "        # 1 - need to update the middle element (main diagonal) in the immediate row below (the left element is zeroed\n",
    "        # out above and the right element has a 0 right above it, so no update is needed)\n",
    "        # 2 - also need to update the left element (sub-diagonal) two rows below (again, there are zeros above the\n",
    "        # middle and right elements on the original row)\n",
    "\n",
    "        # subtract the middle element (main diagonal) in the updated row with the element right above it (right\n",
    "        # element - super-diagonal)\n",
    "        j = i\n",
    "        A_tri[j][1] = A_tri[j][1] - (x_mult * A_tri[k][2])\n",
    "\n",
    "        # subtract the left element (sub-diagonal) two rows below with the element above it (right\n",
    "        # element - super-diagonal)\n",
    "        # NOT FOR THE FIRST ROW and WITHIN BOUNDS\n",
    "        # j = i + 1\n",
    "        # if k != 0 and j < n:\n",
    "        #     A_tri[j][1] = A_tri[j][1] - (x_mult * A_tri[k][2])\n",
    "\n",
    "        # update ith element of b\n",
    "        b[i] = b[i] - (x_mult * b[k])\n"
   ],
   "metadata": {
    "collapsed": false
   }
  },
  {
   "cell_type": "code",
   "execution_count": 15,
   "outputs": [],
   "source": [
    "def gauss_elim_no_row_swap_tri(A_tri, b):\n",
    "    \"\"\"\n",
    "    Gaussian elimination without row swapping on system Ax = b, solving for x\n",
    "\n",
    "    Note: the psuedocode given was adapted and indices in the pseudocode had to be subtracted by 1 (since indexing in Python starts at 0 instead of 1)\n",
    "\n",
    "    :param A: square matrix of size n x n\n",
    "    :param b: column vector of size n x 1\n",
    "    :return: solution vector x to Ax = b\n",
    "    \"\"\"\n",
    "\n",
    "    (n, _) = A_tri.shape\n",
    "    b_len = len(b)\n",
    "    assert(n == b_len)\n",
    "\n",
    "    x = np.zeros((n, ))\n",
    "\n",
    "    # Forward Elimination (to get an upper triangular system)\n",
    "    forward_elim_no_row_swap_tri(A_tri, b, n)\n",
    "\n",
    "    if DEBUG:\n",
    "        #FIXME\n",
    "        print(\"intermediate before\")\n",
    "        print(f\"A: {A_tri}\")\n",
    "        # print(f\"{tri_mat_vec(A_tri, np.array([0.1868476, 0.217119 , 0.1993737, 0.13987474]))}\")\n",
    "        print(f\"b: {b}\")\n",
    "        print(\"intermediate after\")\n",
    "\n",
    "    # Backward substitution (solving upper triangular system from above)\n",
    "    back_sub_tri(A_tri, b, x, n)\n",
    "\n",
    "    return x\n"
   ],
   "metadata": {
    "collapsed": false
   }
  },
  {
   "cell_type": "code",
   "execution_count": 16,
   "outputs": [
    {
     "name": "stdout",
     "output_type": "stream",
     "text": [
      "[1. 1. 1. 1.]\n",
      "x: [0.1868476  0.217119   0.1993737  0.13987474]\n",
      "x true: [0.1868476  0.217119   0.1993737  0.13987474]\n",
      "Matrix-vector multiplication successful for N = 4\n"
     ]
    }
   ],
   "source": [
    "N = 4\n",
    "\n",
    "A_tri = create_tri_mat(N)\n",
    "b = np.ones((N, ))\n",
    "\n",
    "DEBUG = False\n",
    "x = gauss_elim_no_row_swap_tri(np.copy(A_tri), np.copy(b))\n",
    "\n",
    "# let's verify we did not make a mistake for N = 4\n",
    "A_dense = create_dense_mat(np.copy(A_tri), N)\n",
    "x_true = np.linalg.solve(A_dense, np.copy(b))\n",
    "\n",
    "# print(A_dense @ x_true)\n",
    "\n",
    "print(f\"x: {x}\")\n",
    "print(f\"x true: {x_true}\")\n",
    "assert(np.linalg.norm(x - x_true, np.inf) < 1e-12)\n",
    "\n",
    "print(f\"Matrix-vector multiplication successful for N = {N}\")\n"
   ],
   "metadata": {
    "collapsed": false
   }
  },
  {
   "cell_type": "code",
   "execution_count": 24,
   "outputs": [],
   "source": [
    "# N_arr = [3000, 5000, 10000, 15000, 20000, 40000, 80000, 100000, 200000]\n",
    "N_arr = np.array([1000, 2000, 4000, 8000])\n",
    "time_list = []\n",
    "\n",
    "DEBUG = False\n",
    "\n",
    "for N in N_arr:\n",
    "    A_tri = create_tri_mat(N)\n",
    "    b = np.ones((N, ))\n",
    "\n",
    "    t_start = time.time()\n",
    "    x = gauss_elim_no_row_swap_tri(np.copy(A_tri), np.copy(b))\n",
    "    t_end = time.time()\n",
    "    time_list.append(t_end-t_start)\n",
    "\n",
    "    # let's verify we did not make a mistake for small N\n",
    "    if N < 50000:\n",
    "        x_true = np.linalg.solve(create_dense_mat(np.copy(A_tri), N), np.copy(b))\n",
    "        assert(np.linalg.norm(x - x_true, np.inf) < 1e-12)\n"
   ],
   "metadata": {
    "collapsed": false
   }
  },
  {
   "cell_type": "code",
   "execution_count": 26,
   "outputs": [
    {
     "name": "stdout",
     "output_type": "stream",
     "text": [
      "time list: [0.0009965896606445312, 0.003018617630004883, 0.00498509407043457, 0.009981632232666016]\n"
     ]
    },
    {
     "data": {
      "text/plain": "<Figure size 640x480 with 1 Axes>",
      "image/png": "[encoded data removed]"
     },
     "metadata": {},
     "output_type": "display_data"
    }
   ],
   "source": [
    "print(f\"time list: {time_list}\")\n",
    "\n",
    "plt.loglog(N_arr,time_list, 'k-*', label='Observed')\n",
    "plt.loglog(N_arr, np.array(N_arr) * 1e-4, 'r-', label='O$(N)$')\n",
    "\n",
    "plt.xlabel('$N$')\n",
    "plt.ylabel('$Time (s)$')\n",
    "plt.title(\"Times of Tridiagonal Solves (GE without Pivoting) for Various Values of N\")\n",
    "\n",
    "plt.legend(loc='upper left')\n",
    "\n",
    "plt.show()\n"
   ],
   "metadata": {
    "collapsed": false
   }
  },
  {
   "cell_type": "code",
   "execution_count": null,
   "outputs": [],
   "source": [],
   "metadata": {
    "collapsed": false,
    "pycharm": {
     "is_executing": true
    }
   }
  }
 ],
 "metadata": {
  "kernelspec": {
   "display_name": "Python 3",
   "language": "python",
   "name": "python3"
  },
  "language_info": {
   "codemirror_mode": {
    "name": "ipython",
    "version": 2
   },
   "file_extension": ".py",
   "mimetype": "text/x-python",
   "name": "python",
   "nbconvert_exporter": "python",
   "pygments_lexer": "ipython2",
   "version": "2.7.6"
  }
 },
 "nbformat": 4,
 "nbformat_minor": 0
}
