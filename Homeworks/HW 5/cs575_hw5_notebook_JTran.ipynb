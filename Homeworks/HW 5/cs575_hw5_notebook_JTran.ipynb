{
 "cells": [
  {
   "cell_type": "code",
   "execution_count": 13,
   "metadata": {
    "collapsed": true
   },
   "outputs": [],
   "source": [
    "import numpy as np\n",
    "from numpy.linalg import cond, norm, solve, lstsq\n",
    "import time\n",
    "import matplotlib.pyplot as plt\n",
    "from scipy.linalg import hilbert\n",
    "from math import sin, cos, pow\n",
    "\n",
    "from prettytable import PrettyTable\n",
    "\n",
    "%matplotlib inline"
   ]
  },
  {
   "cell_type": "code",
   "execution_count": 14,
   "outputs": [
    {
     "name": "stdout",
     "output_type": "stream",
     "text": [
      "(6, 2)\n",
      "(6,)\n",
      "normal equations: [14.00691617 15.99929341]\n",
      "least squares solution: [14.00691617 15.99929341]\n"
     ]
    }
   ],
   "source": [
    "# Problem 2\n",
    "\n",
    "A = np.array([[1, 2, 1, 2, 2, 2],\n",
    "             [1, 1, 2, 3, 4, 5]]).T\n",
    "\n",
    "b = np.array([30.006, 44.013, 46.006, 76.012, 92.011, 108.010])\n",
    "\n",
    "print(A.shape)\n",
    "print(b.shape)\n",
    "\n",
    "# solving using the built-in solver with the normal equations A^T A x = b\n",
    "x_true_normal = solve(np.copy(A.T @ A), np.copy(A.T @ b))\n",
    "\n",
    "# solving using the built-in least-squares solution\n",
    "x_true_least_squares, _, _, _ = lstsq(A, b, rcond=None)\n",
    "\n",
    "print(f\"normal equations: {x_true_normal}\")\n",
    "print(f\"least squares solution: {x_true_least_squares}\")\n"
   ],
   "metadata": {
    "collapsed": false
   }
  }
 ],
 "metadata": {
  "kernelspec": {
   "display_name": "Python 3",
   "language": "python",
   "name": "python3"
  },
  "language_info": {
   "codemirror_mode": {
    "name": "ipython",
    "version": 2
   },
   "file_extension": ".py",
   "mimetype": "text/x-python",
   "name": "python",
   "nbconvert_exporter": "python",
   "pygments_lexer": "ipython2",
   "version": "2.7.6"
  }
 },
 "nbformat": 4,
 "nbformat_minor": 0
}
