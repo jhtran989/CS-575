{
 "cells": [
  {
   "cell_type": "code",
   "execution_count": 72,
   "metadata": {
    "collapsed": true,
    "ExecuteTime": {
     "start_time": "2023-04-10T12:57:45.731016Z",
     "end_time": "2023-04-10T12:57:45.754783Z"
    }
   },
   "outputs": [],
   "source": [
    "from numpy import *\n",
    "import numpy as np\n",
    "from numpy.linalg import eig, norm\n",
    "\n",
    "from prettytable import PrettyTable"
   ]
  },
  {
   "cell_type": "code",
   "execution_count": 73,
   "outputs": [],
   "source": [
    "def power_method(A, num_iter, x_initial):\n",
    "    \"\"\"\n",
    "    Computes the power method for the dominant eigenvalue\n",
    "\n",
    "    :param A: square input matrix\n",
    "    :param num_iter: number of iterations\n",
    "    :param x_initial: initial guess for the eigenvector (n x 1)\n",
    "    :return: estimated_eigenvalues_vector, estimated_eigenvector_matrix\n",
    "    - estimated_eigenvalues_vector\n",
    "    the sequence of estimated eigenvalue approximations n x 1 vector\n",
    "    - estimated_eigenvector_matrix\n",
    "    the sequence of corresponding eigenvector approximations (along columns) - INCLUDING initial guess as the first\n",
    "    iteration\n",
    "    \"\"\"\n",
    "\n",
    "    # square matrix, so both dimensions should match\n",
    "    n, m = A.shape\n",
    "    assert n == m\n",
    "\n",
    "    # include initial condition as well\n",
    "    new_length = num_iter + 1\n",
    "\n",
    "    # get accumulators for both the eigenvalues and eigenvectors\n",
    "    estimated_eigenvalues_vector = np.zeros((new_length, ))\n",
    "    estimated_eigenvector_matrix = np.zeros((n, new_length))\n",
    "\n",
    "    # normalize using 2-norm\n",
    "    x = x_initial / norm(x_initial)\n",
    "\n",
    "    # get initial estimates for the eigenvalue and eigenvector (just initial guess)\n",
    "    estimated_eigenvalues_vector[0] = x.T @ A @ x\n",
    "    estimated_eigenvector_matrix[:, 0] = x\n",
    "\n",
    "    # start at the 2nd iteration (i = 1, after the initial guess) up to and including i = num_iter\n",
    "    for i in range(1, new_length):\n",
    "        z = A @ x\n",
    "        x = z / norm(z)\n",
    "\n",
    "        estimated_eigenvalues_vector[i] = x.T @ A @ x\n",
    "        estimated_eigenvector_matrix[:, i] = x\n",
    "\n",
    "    return estimated_eigenvalues_vector, estimated_eigenvector_matrix\n"
   ],
   "metadata": {
    "collapsed": false,
    "ExecuteTime": {
     "start_time": "2023-04-10T12:57:45.735508Z",
     "end_time": "2023-04-10T12:57:45.754783Z"
    }
   }
  },
  {
   "cell_type": "code",
   "execution_count": 74,
   "outputs": [
    {
     "name": "stdout",
     "output_type": "stream",
     "text": [
      "Eigenvalues:\n",
      "[19.5493636351772331 -4.6514328443994710 -0.2031439340646978\n",
      " 5.3052131432869238]\n",
      "Eigenvectors:\n",
      "[[-0.1971481203133796 0.2690132302412906 -0.7834070178427704\n",
      "  0.3291747999755490]\n",
      " [-0.5470046454879840 -0.3086522848627238 0.2909560620323353\n",
      "  -0.8582078250597805]\n",
      " [-0.5231462459818992 -0.6075720941531080 0.5486878035729581\n",
      "  0.3716879277241869]\n",
      " [-0.6230863036422100 0.6806039960289487 0.0236581607826158\n",
      "  0.1302741895055122]]\n",
      "Arg sort\n",
      "[1 2 3 0]\n",
      "Index corresponding to largest eigenvalue/eigenvector\n",
      "0\n",
      "3\n",
      "Largest eigenvalues/eigenvectors\n",
      "lambda_1 = 19.549363635177233\n",
      "x_1 = [-0.1971481203133796 -0.5470046454879840 -0.5231462459818992\n",
      " -0.6230863036422100]\n",
      "Second largest eigenvalues/eigenvectors\n",
      "lambda_2 = 5.305213143286924\n",
      "x_2 = [0.3291747999755490 -0.8582078250597805 0.3716879277241869\n",
      " 0.1302741895055122]\n"
     ]
    }
   ],
   "source": [
    "# Problem 3\n",
    "\n",
    "# get largest eigenvalue, eigenvector from built-in\n",
    "A = np.array([[3, 1, 4, 1],\n",
    "              [5, 9, 2, 6],\n",
    "              [5, 3, 5, 8],\n",
    "              [9, 7, 9, 3]])\n",
    "\n",
    "x_initial = np.array([1/2, 1/2, 1/2, 1/2]).T\n",
    "\n",
    "# get vector of eigenvalues, and matrix of eigenvectors along the columns corresponding to eigenvalues\n",
    "eigenvalues, eigenvectors = eig(A)\n",
    "\n",
    "print(f\"Eigenvalues:\")\n",
    "print(eigenvalues)\n",
    "\n",
    "print(f\"Eigenvectors:\")\n",
    "print(eigenvectors)\n",
    "\n",
    "# need to find the largest eigenvalue, eigenvector (NOT sorted above)\n",
    "print(f\"Arg sort\")\n",
    "argsort_idx = np.argsort(eigenvalues)\n",
    "print(argsort_idx)\n",
    "\n",
    "print(f\"Index corresponding to largest eigenvalue/eigenvector\")\n",
    "largest_idx = argsort_idx[-1]\n",
    "print(largest_idx)\n",
    "second_largest_idx = argsort_idx[-2]\n",
    "print(second_largest_idx)\n",
    "\n",
    "print(f\"Largest eigenvalues/eigenvectors\")\n",
    "largest_eigenvalue = eigenvalues[largest_idx]\n",
    "largest_eigenvector = eigenvectors[:, largest_idx]\n",
    "\n",
    "print(f\"lambda_1 = {largest_eigenvalue}\")\n",
    "print(f\"x_1 = {largest_eigenvector}\")\n",
    "\n",
    "print(f\"Second largest eigenvalues/eigenvectors\")\n",
    "second_largest_eigenvalue = eigenvalues[second_largest_idx]\n",
    "second_largest_eigenvector = eigenvectors[:, second_largest_idx]\n",
    "\n",
    "print(f\"lambda_2 = {second_largest_eigenvalue}\")\n",
    "print(f\"x_2 = {second_largest_eigenvector}\")\n"
   ],
   "metadata": {
    "collapsed": false,
    "ExecuteTime": {
     "start_time": "2023-04-10T12:57:45.740754Z",
     "end_time": "2023-04-10T12:57:45.755780Z"
    }
   }
  },
  {
   "cell_type": "code",
   "execution_count": 75,
   "outputs": [
    {
     "name": "stdout",
     "output_type": "stream",
     "text": [
      "+----------------------+----------------------+--------------------+---------------------------+---------------------+----------------------------+\n",
      "| Iteration number (i) | Estimated Eigenvalue | Error (eigenvalue) | Factor error (eigenvalue) | Error (eigenvector) | Factor error (eigenvector) |\n",
      "+----------------------+----------------------+--------------------+---------------------------+---------------------+----------------------------+\n",
      "|          0           |     2.000000e+01     |    4.506364e-01    |             nan           |     3.310811e-01    |             nan            |\n",
      "|          1           |     1.948547e+01     |    6.388877e-02    |        1.417746e-01       |     5.647455e-02    |        1.705762e-01        |\n",
      "|          2           |     1.954898e+01     |    3.840015e-04    |        6.010469e-03       |     1.276838e-02    |        2.260909e-01        |\n",
      "|          3           |     1.955153e+01     |    2.161631e-03    |        5.629226e+00       |     3.435705e-03    |        2.690791e-01        |\n",
      "|          4           |     1.954964e+01     |    2.807422e-04    |        1.298752e-01       |     7.289290e-04    |        2.121629e-01        |\n",
      "|          5           |     1.954953e+01     |    1.661138e-04    |        5.916952e-01       |     2.023148e-04    |        2.775508e-01        |\n",
      "|          6           |     1.954939e+01     |    2.448565e-05    |        1.474029e-01       |     4.201061e-05    |        2.076497e-01        |\n",
      "|          7           |     1.954938e+01     |    1.160207e-05    |        4.738313e-01       |     1.210385e-05    |        2.881141e-01        |\n",
      "|          8           |     1.954937e+01     |    1.971631e-06    |        1.699379e-01       |     2.467898e-06    |        2.038937e-01        |\n",
      "|          9           |     1.954936e+01     |    8.152692e-07    |        4.134998e-01       |     7.391483e-07    |        2.995052e-01        |\n",
      "|          10          |     1.954936e+01     |    1.545797e-07    |        1.896057e-01       |     1.492698e-07    |        2.019483e-01        |\n",
      "|          11          |     1.954936e+01     |    5.781141e-08    |        3.739910e-01       |     4.627403e-08    |        3.100027e-01        |\n",
      "|          12          |     1.954936e+01     |    1.191446e-08    |        2.060918e-01       |     9.385389e-09    |        2.028220e-01        |\n",
      "|          13          |     1.954936e+01     |    4.131291e-09    |        3.467461e-01       |     2.978250e-09    |        3.173283e-01        |\n",
      "|          14          |     1.954936e+01     |    9.074697e-10    |        2.196577e-01       |     6.162937e-10    |        2.069315e-01        |\n",
      "|          15          |     1.954936e+01     |    2.971099e-10    |        3.274048e-01       |     1.971235e-10    |        3.198531e-01        |\n",
      "|          16          |     1.954936e+01     |    6.854251e-11    |        2.306975e-01       |     4.213804e-11    |        2.137647e-01        |\n",
      "|          17          |     1.954936e+01     |    2.148326e-11    |        3.134297e-01       |     1.338652e-11    |        3.176826e-01        |\n",
      "|          18          |     1.954936e+01     |    5.147882e-12    |        2.396230e-01       |     2.973411e-12    |        2.221198e-01        |\n",
      "|          19          |     1.954936e+01     |    1.559641e-12    |        3.029676e-01       |     9.289494e-13    |        3.124187e-01        |\n",
      "|          20          |     1.954936e+01     |    3.943512e-13    |        2.528474e-01       |     2.142858e-13    |        2.306754e-01        |\n",
      "+----------------------+----------------------+--------------------+---------------------------+---------------------+----------------------------+\n"
     ]
    }
   ],
   "source": [
    "# compute power method\n",
    "num_iter = 20\n",
    "# the new length from i = 0 to num_iter (total length is num_iter + 1)\n",
    "new_length = num_iter + 1\n",
    "estimated_eigenvalues_vector, estimated_eigenvector_matrix = power_method(A, num_iter, x_initial)\n",
    "\n",
    "# compute errors of eigenvalue\n",
    "error_eigenvalue_vector = np.fabs(largest_eigenvalue - estimated_eigenvalues_vector)\n",
    "\n",
    "# compute factor in each error decreases (eigenvalue)\n",
    "error_factor_eigenvalue_vector = np.zeros((new_length,))\n",
    "error_factor_eigenvalue_vector[0] = None\n",
    "error_factor_eigenvalue_vector[1:] = error_eigenvalue_vector[1:] / error_eigenvalue_vector[:-1]\n",
    "\n",
    "# compute errors of eigenvector (2-norm)\n",
    "errors_eigenvector_vector = np.zeros((new_length,))\n",
    "\n",
    "# since the largest eigenvalue for A is positive in this case, we don't have to worry about alternating signs\n",
    "# Edit: actually, the approximated eigenvector has the opposite sign so add a negative sign below\n",
    "for i in range(new_length):\n",
    "    errors_eigenvector_vector[i] = norm(largest_eigenvector - (-estimated_eigenvector_matrix[:, i]))\n",
    "\n",
    "# compute factor in each error decreases (eigenvector)\n",
    "error_factor_eigenvector_vector = np.zeros((new_length,))\n",
    "error_factor_eigenvector_vector[0] = None\n",
    "error_factor_eigenvector_vector[1:] = errors_eigenvector_vector[1:] / errors_eigenvector_vector[:-1]\n",
    "\n",
    "# print table out\n",
    "table = PrettyTable()\n",
    "table.field_names = [\"Iteration number (i)\",\n",
    "                     \"Estimated Eigenvalue\", \"Error (eigenvalue)\", \"Factor error (eigenvalue)\",\n",
    "                     \"Error (eigenvector)\", \"Factor error (eigenvector)\"]\n",
    "\n",
    "table.add_rows(\n",
    "    [\n",
    "        [i,\n",
    "         f\"{estimated_eigenvalues_vector[i]: e}\", f\"{error_eigenvalue_vector[i]: e}\",\n",
    "         f\"{error_factor_eigenvalue_vector[i]: e}\",\n",
    "         f\"{errors_eigenvector_vector[i]: e}\", f\"{error_factor_eigenvector_vector[i]: e}\"]\n",
    "        for i in range(new_length)\n",
    "    ]\n",
    ")\n",
    "\n",
    "print(table)\n"
   ],
   "metadata": {
    "collapsed": false,
    "ExecuteTime": {
     "start_time": "2023-04-10T12:57:45.747419Z",
     "end_time": "2023-04-10T12:57:45.755780Z"
    }
   }
  },
  {
   "cell_type": "code",
   "execution_count": 76,
   "outputs": [
    {
     "name": "stdout",
     "output_type": "stream",
     "text": [
      "Expected convergence factor\n",
      " 2.713752e-01\n"
     ]
    }
   ],
   "source": [
    "# compare convergence with |lambda_2 / lambda_1|\n",
    "convergence_factor = math.fabs(second_largest_eigenvalue / largest_eigenvalue)\n",
    "\n",
    "print(\"Expected convergence factor\")\n",
    "print(f\"{convergence_factor: e}\")\n"
   ],
   "metadata": {
    "collapsed": false,
    "ExecuteTime": {
     "start_time": "2023-04-10T12:57:45.754783Z",
     "end_time": "2023-04-10T12:57:45.765829Z"
    }
   }
  },
  {
   "cell_type": "code",
   "execution_count": 77,
   "outputs": [
    {
     "name": "stdout",
     "output_type": "stream",
     "text": [
      "[0.5000000000000000 0.5000000000000000 0.5000000000000000\n",
      " 0.5000000000000000]\n",
      "[0.2127237566611795 0.5199914051717720 0.4963554322094187\n",
      " 0.6618072429458917]\n",
      "[0.1948413042184071 0.5482180795710460 0.5324855519012367\n",
      " 0.6147787735587006]\n",
      "[0.1983212093742582 0.5453214277737873 0.5216763897023247\n",
      " 0.6254174467907319]\n",
      "[0.1970371280543225 0.5470298749398500 0.5237037789935753\n",
      " 0.6226307396517178]\n",
      "[0.1972202406467097 0.5468970185319886 0.5230701786377207\n",
      " 0.6232218032289777]\n",
      "[0.1971433687742005 0.5470026845153875 0.5231797096386678\n",
      " 0.6230614309229215]\n",
      "[0.1971526183598535 0.5469976313052146 0.5231424542097581\n",
      " 0.6230942216260152]\n",
      "[0.1971479639486950 0.5470042843290208 0.5231482799172709\n",
      " 0.6230849624699514]\n",
      "[0.1971484055193970 0.5470041805136605 0.5231460691733097\n",
      " 0.6230867700491263]\n",
      "[0.1971481197551136 0.5470046066184856 0.5231463713983130\n",
      " 0.6230862326419654]\n",
      "[0.1971481387101914 0.5470046141651536 0.5231462387597904\n",
      " 0.6230863313832387]\n",
      "[0.1971481208925690 0.5470046419307032 0.5231462538383914\n",
      " 0.6230862999855231]\n",
      "[0.1971481215206136 0.5470046433465345 0.5231462457783157\n",
      " 0.6230863053111330]\n",
      "[0.1971481203911502 0.5470046451866782 0.5231462464823770\n",
      " 0.6230863034619143]\n",
      "[0.1971481203939303 0.5470046453396362 0.5231462459854911\n",
      " 0.6230863037439414]\n",
      "[0.1971481203210949 0.5470046454635680 0.5231462460143347\n",
      " 0.6230863036339708]\n",
      "[0.1971481203188386 0.5470046454775889 0.5231462459832158\n",
      " 0.6230863036485033]\n",
      "[0.1971481203140603 0.5470046454860599 0.5231462459840375\n",
      " 0.6230863036418886]\n",
      "[0.1971481203137548 0.5470046454872484 0.5231462459820556\n",
      " 0.6230863036426056]\n",
      "[0.1971481203134360 0.5470046454878352 0.5231462459820425\n",
      " 0.6230863036422025]\n",
      "[0.3310810845918672 0.0564745468611432 0.0127683794552538\n",
      " 0.0034357045390493 0.0007289289508271 0.0002023148116206\n",
      " 0.0000420106061278 0.0000121038500286 0.0000024678982626\n",
      " 0.0000007391483496 0.0000001492697597 0.0000000462740307\n",
      " 0.0000000093853895 0.0000000029782495 0.0000000006162937\n",
      " 0.0000000001971235 0.0000000000421380 0.0000000000133865\n",
      " 0.0000000000029734 0.0000000000009289 0.0000000000002143]\n"
     ]
    }
   ],
   "source": [
    "# print out stats for comparison above\n",
    "\n",
    "# format to print 16 digits of precision\n",
    "float_formatter = \"{:.16f}\".format\n",
    "np.set_printoptions(formatter={'float_kind': float_formatter})\n",
    "\n",
    "for i in range(new_length):\n",
    "    print(estimated_eigenvector_matrix[:, i])\n",
    "\n",
    "print(errors_eigenvector_vector)\n"
   ],
   "metadata": {
    "collapsed": false,
    "ExecuteTime": {
     "start_time": "2023-04-10T12:57:45.759193Z",
     "end_time": "2023-04-10T12:57:45.765829Z"
    }
   }
  },
  {
   "cell_type": "code",
   "execution_count": 78,
   "outputs": [
    {
     "name": "stdout",
     "output_type": "stream",
     "text": [
      "2.1428576348218256e-13\n"
     ]
    }
   ],
   "source": [
    "# FIXME: debug stuff\n",
    "# [0.3310810845918672 0.0564745468611432 0.0127683794552538\n",
    "#  0.0034357045390493 0.0007289289508271 0.0002023148116206\n",
    "#  0.0000420106061278 0.0000121038500286 0.0000024678982626\n",
    "#  0.0000007391483496 0.0000001492697597 0.0000000462740307\n",
    "#  0.0000000093853895 0.0000000029782495 0.0000000006162937\n",
    "#  0.0000000001971235 0.0000000000421380 0.0000000000133865\n",
    "#  0.0000000000029734 0.0000000000009289 0.0000000000002143\n",
    "#  0.0000000000000655 0.0000000000000156 0.0000000000000048\n",
    "#  0.0000000000000011 0.0000000000000000]\n",
    "\n",
    "# [0.1971481203134360 0.5470046454878352 0.5231462459820425\n",
    "#  0.6230863036422025]\n",
    "# [0.1971481203134057 0.5470046454879316 0.5231462459819139\n",
    "#  0.6230863036422354]\n",
    "# [0.1971481203133841 0.5470046454879727 0.5231462459819090\n",
    "#  0.6230863036422105]\n",
    "# [0.1971481203133814 0.5470046454879802 0.5231462459819005\n",
    "#  0.6230863036422118]\n",
    "# [0.1971481203133799 0.5470046454879831 0.5231462459818997\n",
    "#  0.6230863036422102]\n",
    "# [0.1971481203133797 0.5470046454879838 0.5231462459818993\n",
    "#  0.6230863036422102]\n",
    "\n",
    "# [0.3310810845918672 0.0564745468611432 0.0127683794552538\n",
    "#  0.0034357045390493 0.0007289289508271 0.0002023148116206\n",
    "#  0.0000420106061278 0.0000121038500286 0.0000024678982626\n",
    "#  0.0000007391483496 0.0000001492697597 0.0000000462740307\n",
    "#  0.0000000093853895 0.0000000029782495 0.0000000006162937\n",
    "#  0.0000000001971235 0.0000000000421380 0.0000000000133865\n",
    "#  0.0000000000029734 0.0000000000009289 0.0000000000000000]\n",
    "\n",
    "# [0.1971481203134360 0.5470046454878352 0.5231462459820425\n",
    "#  0.6230863036422025]\n",
    "\n",
    "print(norm(largest_eigenvector - (-estimated_eigenvector_matrix[:, num_iter])))\n"
   ],
   "metadata": {
    "collapsed": false,
    "ExecuteTime": {
     "start_time": "2023-04-10T12:57:45.766826Z",
     "end_time": "2023-04-10T12:57:45.778004Z"
    }
   }
  }
 ],
 "metadata": {
  "kernelspec": {
   "display_name": "Python 3",
   "language": "python",
   "name": "python3"
  },
  "language_info": {
   "codemirror_mode": {
    "name": "ipython",
    "version": 2
   },
   "file_extension": ".py",
   "mimetype": "text/x-python",
   "name": "python",
   "nbconvert_exporter": "python",
   "pygments_lexer": "ipython2",
   "version": "2.7.6"
  }
 },
 "nbformat": 4,
 "nbformat_minor": 0
}
