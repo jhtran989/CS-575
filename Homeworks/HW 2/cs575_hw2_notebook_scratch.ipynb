{
 "cells": [
  {
   "cell_type": "code",
   "execution_count": 245,
   "metadata": {
    "collapsed": true
   },
   "outputs": [],
   "source": [
    "import numpy as np\n",
    "import time\n",
    "import matplotlib.pyplot as plt\n",
    "from prettytable import PrettyTable\n",
    "\n",
    "%matplotlib inline"
   ]
  },
  {
   "cell_type": "code",
   "execution_count": 246,
   "outputs": [],
   "source": [
    "def back_sub(A, b, x, n):\n",
    "    \"\"\"\n",
    "    The part of Gaussian Elimination that does the backward substitution (can be reused in both versions without row swapping and with partial pivoting)\n",
    "\n",
    "    Note: need to pass n from the parent function (Gaussian Elimination that determines the size of A and b)\n",
    "\n",
    "    :param A: square matrix of size n x n (already performed forward elimination where A is an upper triangular matrix)\n",
    "    :param b: column vector of size n x 1\n",
    "    :param x: solution vector x to Ax = b\n",
    "    :param n: size n from A and b\n",
    "    :return:\n",
    "    \"\"\"\n",
    "\n",
    "    x[n - 1] = b[n - 1] / A[n - 1][n - 1]\n",
    "\n",
    "    for i in reversed(range(0, n - 1)):\n",
    "        temp = b[i]\n",
    "\n",
    "        for j in range(i + 1, n):\n",
    "            temp = temp - (A[i][j] * x[j])\n",
    "\n",
    "        x[i] = temp / A[i][i]\n"
   ],
   "metadata": {
    "collapsed": false
   }
  },
  {
   "cell_type": "code",
   "execution_count": 247,
   "outputs": [],
   "source": [
    "def forward_elim_no_row_swap(A, b, n):\n",
    "    \"\"\"\n",
    "    The part of Gaussian Elimination that does the forward elimination (only for version without row swapping)\n",
    "\n",
    "    Note: need to pass n from the parent function (Gaussian Elimination that determines the size of A and b)\n",
    "\n",
    "    :param A: square matrix of size n x n\n",
    "    :param b: column vector of size n x 1\n",
    "    :param n: size n from A and b\n",
    "    :return:\n",
    "    \"\"\"\n",
    "\n",
    "    for k in range(n - 1):\n",
    "        for i in range(k + 1, n):\n",
    "            # find multiplier to zero out A[i][k] in the ith row\n",
    "            x_mult = A[i][k] / A[k][k]\n",
    "\n",
    "            # typo in pseudocode, should be set to 0 instead of x_mult\n",
    "            A[i][k] = 0\n",
    "\n",
    "            # update ith row of A\n",
    "            for j in range(k + 1, n):\n",
    "                A[i][j] = A[i][j] - (x_mult * A[k][j])\n",
    "\n",
    "            # update ith element of b\n",
    "            b[i] = b[i] - (x_mult * b[k])\n"
   ],
   "metadata": {
    "collapsed": false
   }
  },
  {
   "cell_type": "code",
   "execution_count": 248,
   "outputs": [],
   "source": [
    "def gauss_elim_no_row_swap(A, b):\n",
    "    \"\"\"\n",
    "    Gaussian elimination without row swapping on system Ax = b, solving for x\n",
    "\n",
    "    Note: the psuedocode given was adapted and indices in the pseudocode had to be subtracted by 1 (since indexing in Python starts at 0 instead of 1)\n",
    "\n",
    "    :param A: square matrix of size n x n\n",
    "    :param b: column vector of size n x 1\n",
    "    :return: solution vector x to Ax = b\n",
    "    \"\"\"\n",
    "\n",
    "    (n, _) = A.shape\n",
    "    b_len = len(b)\n",
    "    assert(n == b_len)\n",
    "\n",
    "    x = np.zeros((n, ))\n",
    "\n",
    "    # Forward Elimination (to get an upper triangular system)\n",
    "    forward_elim_no_row_swap(A, b, n)\n",
    "\n",
    "    #FIXME\n",
    "    print(\"intermediate before\")\n",
    "    print(f\"A: {A}\")\n",
    "    print(f\"b: {b}\")\n",
    "    print(\"intermediate after\")\n",
    "\n",
    "    # Backward substitution (solving upper triangular system from above)\n",
    "    back_sub(A, b, x, n)\n",
    "\n",
    "    return x\n"
   ],
   "metadata": {
    "collapsed": false
   }
  },
  {
   "cell_type": "code",
   "execution_count": 249,
   "outputs": [
    {
     "name": "stdout",
     "output_type": "stream",
     "text": [
      "(3, 3)\n",
      "(3,)\n",
      "A: [[-3.  2. -1.]\n",
      " [ 6. -6.  7.]\n",
      " [ 3. -4.  4.]]\n",
      "b: [-1. -7. -6.]\n",
      "intermediate before\n",
      "A: [[-3.  2. -1.]\n",
      " [ 0. -2.  5.]\n",
      " [ 0.  0. -2.]]\n",
      "b: [-1. -9.  2.]\n",
      "intermediate after\n",
      "x: [ 2.  2. -1.]\n",
      "actual x: [ 2  2 -1]\n"
     ]
    }
   ],
   "source": [
    "# IMPORTANT - need to create A and b with the float type since the default type is int (if no '.' is used after the inputted numbers in the array)\n",
    "\n",
    "A = np.array(np.mat('-3, 2, -1;'\n",
    "                    '6, -6, 7;'\n",
    "                    '3, -4, 4'), dtype=float)\n",
    "b = np.array([-1, -7, -6], dtype=float)\n",
    "\n",
    "print(A.shape)\n",
    "print(b.shape)\n",
    "print(f\"A: {A}\")\n",
    "print(f\"b: {b}\")\n",
    "\n",
    "(n, _) = A.shape\n",
    "\n",
    "# copy A and b just in case we need to reference the original data\n",
    "x = gauss_elim_no_row_swap(A, b)\n",
    "print(f\"x: {x}\")\n",
    "\n",
    "x_actual = b = np.array([2, 2, -1])\n",
    "print(f\"actual x: {x_actual}\")\n",
    "\n",
    "diff = np.linalg.norm(x - x_actual)\n",
    "assert(diff < n * 1e-12)\n"
   ],
   "metadata": {
    "collapsed": false
   }
  },
  {
   "cell_type": "code",
   "execution_count": 250,
   "outputs": [],
   "source": [
    "def forward_elim_partial_pivot(A, b, n):\n",
    "    \"\"\"\n",
    "    The part of Gaussian Elimination that does the forward elimination (only for version with partial pivoting)\n",
    "\n",
    "    Note: to make the coding easier, this does NOT use pointers to reduce time for physically swapping rows in memory\n",
    "\n",
    "    :param A: square matrix of size n x n\n",
    "    :param b: column vector of size n x 1\n",
    "    :param n: size n from A and b\n",
    "    :return:\n",
    "    \"\"\"\n",
    "\n",
    "    for k in range(n - 1):\n",
    "        # fine to initialize as 0 since we only deal with non-negative numbers for finding the max of absolute magnitudes\n",
    "        p_max = 0\n",
    "\n",
    "        # pseudocode missing initialization of j (when no row swapping is needed)\n",
    "        j = k\n",
    "\n",
    "        # search for max magnitude in kth column below kth row (keep track of row index)\n",
    "        for i in range(k, n):\n",
    "            p = np.abs(A[i][k])\n",
    "\n",
    "            if p > p_max:\n",
    "                p_max = p\n",
    "                j = i\n",
    "\n",
    "        # if highest magnitude is in some other row than the current row, requiring row swapping\n",
    "        if j != k:\n",
    "            # swap the jth and kth rows in A\n",
    "            tempRow = np.copy(A[j])  # important since only the pointer is copied otherwise\n",
    "            A[j] = A[k]\n",
    "            A[k] = tempRow\n",
    "\n",
    "            # swap the jth and kth elements in b\n",
    "            temp = b[j]\n",
    "            b[j] = b[k]\n",
    "            b[k] = temp\n",
    "\n",
    "        for i in range(k + 1, n):\n",
    "            # find multiplier to zero out A[i][k] in the ith row\n",
    "            x_mult = A[i][k] / A[k][k]\n",
    "            A[i][k] = 0\n",
    "\n",
    "            # update ith row of A\n",
    "            for j in range(k + 1, n):\n",
    "                A[i][j] = A[i][j] - (x_mult * A[k][j])\n",
    "\n",
    "            # update ith element of b\n",
    "            b[i] = b[i] - (x_mult * b[k])\n"
   ],
   "metadata": {
    "collapsed": false
   }
  },
  {
   "cell_type": "code",
   "execution_count": 251,
   "outputs": [],
   "source": [
    "def gauss_elim_partial_pivot(A, b):\n",
    "    \"\"\"\n",
    "    Gaussian elimination with partial pivoting on system Ax = b, solving for x\n",
    "\n",
    "    Note: need to pass n from the parent function (Gaussian Elimination that determines the size of A and b)\n",
    "    Another note: the psuedocode given was adapted and indices in the pseudocode had to be subtracted by 1 (since indexing in Python starts at 0 instead of 1)\n",
    "\n",
    "    :param A: square matrix of size n x n\n",
    "    :param b: column vector of size n x 1\n",
    "    :return: solution vector x to Ax = b\n",
    "    \"\"\"\n",
    "\n",
    "    (n, _) = A.shape\n",
    "    b_len = len(b)\n",
    "    assert(n == b_len)\n",
    "\n",
    "    x = np.zeros((n, ))\n",
    "\n",
    "    # Forward Elimination (to get an upper triangular system)\n",
    "    forward_elim_partial_pivot(A, b, n)\n",
    "\n",
    "    #FIXME\n",
    "    if PRINT_DEBUG:\n",
    "        print(\"intermediate before\")\n",
    "        print(f\"A: {A}\")\n",
    "        print(f\"b: {b}\")\n",
    "        print(\"intermediate after\")\n",
    "\n",
    "    # Backward substitution (solving upper triangular system from above)\n",
    "    back_sub(A, b, x, n)\n",
    "\n",
    "    return x\n"
   ],
   "metadata": {
    "collapsed": false
   }
  },
  {
   "cell_type": "code",
   "execution_count": 252,
   "outputs": [
    {
     "name": "stdout",
     "output_type": "stream",
     "text": [
      "(4, 4)\n",
      "(4,)\n",
      "A: [[ 2.  4. -2. -2.]\n",
      " [ 1.  2.  4. -3.]\n",
      " [-3. -3.  8. -2.]\n",
      " [-1.  1.  6. -3.]]\n",
      "b: [-4.  5.  7.  7.]\n",
      "intermediate before\n",
      "A: [[-3.         -3.          8.         -2.        ]\n",
      " [ 0.          2.          3.33333333 -3.33333333]\n",
      " [ 0.          0.          5.         -2.        ]\n",
      " [ 0.          0.          0.          1.        ]]\n",
      "b: [7.         0.66666667 7.         4.        ]\n",
      "intermediate after\n",
      "x: [1. 2. 3. 4.]\n",
      "actual x: [1 2 3 4]\n"
     ]
    }
   ],
   "source": [
    "# IMPORTANT - need to create A and b with the float type since the default type is int (if no '.' is used after the inputted numbers in the array)\n",
    "\n",
    "# to print the intermediate values of A and b\n",
    "PRINT_DEBUG = True\n",
    "\n",
    "A = np.array(np.mat('2, 4, -2, -2;'\n",
    "                    '1, 2, 4, -3;'\n",
    "                    '-3, -3, 8, -2;'\n",
    "                    '-1, 1, 6, -3'), dtype=float)\n",
    "b = np.array([-4, 5, 7, 7], dtype=float)\n",
    "\n",
    "print(A.shape)\n",
    "print(b.shape)\n",
    "print(f\"A: {A}\")\n",
    "print(f\"b: {b}\")\n",
    "\n",
    "(n, _) = A.shape\n",
    "\n",
    "# copy A and b just in case we need to reference the original data\n",
    "x = gauss_elim_partial_pivot(np.copy(A), np.copy(b))\n",
    "print(f\"x: {x}\")\n",
    "\n",
    "x_actual = b = np.array([1, 2, 3, 4])\n",
    "print(f\"actual x: {x_actual}\")\n",
    "\n",
    "diff = np.linalg.norm(x - x_actual)\n",
    "assert(diff < n * 1e-12)\n"
   ],
   "metadata": {
    "collapsed": false
   }
  },
  {
   "cell_type": "code",
   "execution_count": 253,
   "outputs": [
    {
     "name": "stdout",
     "output_type": "stream",
     "text": [
      "[10 20 40 80]\n",
      "x built in: [ 0.90255566 -0.06915512 -0.40720461 -0.0130279   0.92987474 -0.93001893\n",
      " -0.44832155 -0.12168249  0.42721531  0.42588244]\n",
      "x mine: [ 0.90255566 -0.06915512 -0.40720461 -0.0130279   0.92987474 -0.93001893\n",
      " -0.44832155 -0.12168249  0.42721531  0.42588244]\n",
      "x built in: [ 0.4981446   1.00964179 -1.23705606 -0.73144578 -1.52347317 -0.60113632\n",
      "  0.49557213 -0.61634083  0.60792255 -0.74874643 -0.21574161  0.13235649\n",
      "  0.53469571  0.88433644 -0.30656598  1.01400646  1.99930608 -0.09248237\n",
      "  0.49274376  0.07476751]\n",
      "x mine: [ 0.4981446   1.00964179 -1.23705606 -0.73144578 -1.52347317 -0.60113632\n",
      "  0.49557213 -0.61634083  0.60792255 -0.74874643 -0.21574161  0.13235649\n",
      "  0.53469571  0.88433644 -0.30656598  1.01400646  1.99930608 -0.09248237\n",
      "  0.49274376  0.07476751]\n",
      "x built in: [-0.25103183 -0.40104587  0.15145456 -0.02485544  0.42786309  0.38010655\n",
      " -0.92591013 -0.31096883 -0.0242108  -0.18387447 -0.18863137 -0.78660957\n",
      "  0.06077974 -1.21012738 -0.60630336  0.03008944  0.9756253  -1.04842205\n",
      "  0.86393826 -0.24281456  0.77973318  0.54583029  0.49994307  0.79735391\n",
      " -0.08534714  0.03685687 -0.74252267  0.32895782  0.87461671  0.74064629\n",
      "  0.06758172  0.38906906  1.10142296  0.09148273  0.50873331 -0.70987334\n",
      "  0.20117221  0.17616131 -0.42251501 -0.84055114]\n",
      "x mine: [-0.25103183 -0.40104587  0.15145456 -0.02485544  0.42786309  0.38010655\n",
      " -0.92591013 -0.31096883 -0.0242108  -0.18387447 -0.18863137 -0.78660957\n",
      "  0.06077974 -1.21012738 -0.60630336  0.03008944  0.9756253  -1.04842205\n",
      "  0.86393826 -0.24281456  0.77973318  0.54583029  0.49994307  0.79735391\n",
      " -0.08534714  0.03685687 -0.74252267  0.32895782  0.87461671  0.74064629\n",
      "  0.06758172  0.38906906  1.10142296  0.09148273  0.50873331 -0.70987334\n",
      "  0.20117221  0.17616131 -0.42251501 -0.84055114]\n",
      "x built in: [-0.23577297 -0.19928547 -0.23849538 -0.07768852  0.29115588  0.235267\n",
      "  0.16758727  0.01970625 -0.90396666  0.09335854 -0.39051998  0.16731365\n",
      "  0.19067959  0.10591549  0.16604802  0.24178241  0.34077244  0.13280524\n",
      "  0.27415475 -0.21859845  0.12072693  0.40306021  0.13313466 -0.10497667\n",
      "  0.03888298 -0.22875824 -0.04309351 -0.12736645 -0.18405463 -0.1480505\n",
      " -0.0226883  -0.11248896  0.3739008  -0.20234474 -0.27102561 -0.08088989\n",
      " -0.12783478 -0.03178589 -0.09555405  0.07435807  0.00233981 -0.00296481\n",
      "  0.42362188 -0.44207607 -0.07422311  0.04811144  0.01499748 -0.1398638\n",
      "  0.08799649 -0.20616304  0.38706078  0.4334757   0.31427595  0.71250919\n",
      "  0.22444779  0.27427193  0.41719505  0.32956517  0.12641019 -0.08908671\n",
      " -0.31743916  0.32127954 -0.26578067 -0.20804494 -0.07881896 -0.27262918\n",
      "  0.67095058 -0.43126355  0.3373087  -0.11628417 -0.05381104  0.14838596\n",
      " -0.10132704 -0.93610821 -0.92990161 -0.23911677  0.23039123  0.19734459\n",
      "  0.07798356  0.5880728 ]\n",
      "x mine: [-0.23577297 -0.19928547 -0.23849538 -0.07768852  0.29115588  0.235267\n",
      "  0.16758727  0.01970625 -0.90396666  0.09335854 -0.39051998  0.16731365\n",
      "  0.19067959  0.10591549  0.16604802  0.24178241  0.34077244  0.13280524\n",
      "  0.27415475 -0.21859845  0.12072693  0.40306021  0.13313466 -0.10497667\n",
      "  0.03888298 -0.22875824 -0.04309351 -0.12736645 -0.18405463 -0.1480505\n",
      " -0.0226883  -0.11248896  0.3739008  -0.20234474 -0.27102561 -0.08088989\n",
      " -0.12783478 -0.03178589 -0.09555405  0.07435807  0.00233981 -0.00296481\n",
      "  0.42362188 -0.44207607 -0.07422311  0.04811144  0.01499748 -0.1398638\n",
      "  0.08799649 -0.20616304  0.38706078  0.4334757   0.31427595  0.71250919\n",
      "  0.22444779  0.27427193  0.41719505  0.32956517  0.12641019 -0.08908671\n",
      " -0.31743916  0.32127954 -0.26578067 -0.20804494 -0.07881896 -0.27262918\n",
      "  0.67095058 -0.43126355  0.3373087  -0.11628417 -0.05381104  0.14838596\n",
      " -0.10132704 -0.93610821 -0.92990161 -0.23911677  0.23039123  0.19734459\n",
      "  0.07798356  0.5880728 ]\n"
     ]
    }
   ],
   "source": [
    "# to print the intermediate values of A and b\n",
    "PRINT_DEBUG = False\n",
    "\n",
    "# N_arr = 10 * np.array([2 ** x for x in range(0, 4)])\n",
    "N_arr = np.array([10, 20, 40, 80])\n",
    "print(N_arr)\n",
    "\n",
    "norm_list = []\n",
    "built_in_time_list = []\n",
    "my_time_list = []\n",
    "\n",
    "for N in N_arr:\n",
    "    # keep generating random A matrices until it is NOT singular (when determinant is nonzero)\n",
    "    while True:\n",
    "        A = np.random.rand(N, N)\n",
    "        # print(f\"A: {A}\")\n",
    "        # print(f\"det(A): {np.linalg.det(A)}\")\n",
    "\n",
    "        # need to be above some small value (due to limited numerical precision)\n",
    "        if np.linalg.det(A) > 1e-12:\n",
    "            break\n",
    "\n",
    "    # generate random b vectors\n",
    "    b = np.random.rand(N)\n",
    "\n",
    "    # IMPORTANT - need copy so the built-in solver does not edit A and b and pass in different values into our GE function\n",
    "    # use built-in to solve Ax = b\n",
    "    built_in_time_start = time.time()\n",
    "    x_built_in = np.linalg.solve(np.copy(A), np.copy(b))\n",
    "    built_in_time_end = time.time()\n",
    "\n",
    "    # use our Gaussian Elimination with partial pivoting\n",
    "    my_time_start = time.time()\n",
    "    x_mine = gauss_elim_partial_pivot(np.copy(A), np.copy(b))\n",
    "    my_time_end = time.time()\n",
    "\n",
    "    # FIXME:\n",
    "    print(f\"x built in: {x_built_in}\")\n",
    "    print(f\"x mine: {x_mine}\")\n",
    "\n",
    "    # verification\n",
    "    norm = np.linalg.norm(x_mine - x_built_in)\n",
    "    # TODO: the norm of the error may be greater than 1e-12...\n",
    "    assert(norm < 1e-10 * N)\n",
    "\n",
    "    norm_list.append(norm)\n",
    "    built_in_time_list.append(built_in_time_end - built_in_time_start)\n",
    "    my_time_list.append(my_time_end - my_time_start)\n"
   ],
   "metadata": {
    "collapsed": false
   }
  },
  {
   "cell_type": "code",
   "execution_count": 254,
   "outputs": [
    {
     "name": "stdout",
     "output_type": "stream",
     "text": [
      "+------------------------+-----------------------+---------------------------+---------------------------------+\n",
      "| matrix/vector size (N) |     norm of error     | timing of built-in solver | timing of GE (partial pivoting) |\n",
      "+------------------------+-----------------------+---------------------------+---------------------------------+\n",
      "|           10           | 2.217302348033905e-15 |            0.0            |               0.0               |\n",
      "|           20           | 5.107044768930868e-15 |            0.0            |               0.0               |\n",
      "|           40           | 5.317810023770905e-15 |            0.0            |               0.0               |\n",
      "|           80           | 4.800009874308177e-14 |    0.015620708465576172   |       0.046869754791259766      |\n",
      "+------------------------+-----------------------+---------------------------+---------------------------------+\n"
     ]
    }
   ],
   "source": [
    "table = PrettyTable()\n",
    "table.field_names = [\"matrix/vector size (N)\", \"norm of error\", \"timing of built-in solver\", \"timing of GE (partial pivoting)\"]\n",
    "table.add_rows(\n",
    "    [\n",
    "        [N, norm, built_in_timing, my_timing] for (N, norm, built_in_timing, my_timing) in zip(N_arr, norm_list, built_in_time_list, my_time_list)\n",
    "    ]\n",
    ")\n",
    "\n",
    "print(table)\n"
   ],
   "metadata": {
    "collapsed": false
   }
  },
  {
   "cell_type": "code",
   "execution_count": 257,
   "outputs": [
    {
     "data": {
      "text/plain": "<Figure size 640x480 with 1 Axes>",
      "image/png": "[encoded data removed]"
     },
     "metadata": {},
     "output_type": "display_data"
    }
   ],
   "source": [
    "plt.loglog(N_arr, norm_list, 'o-', label=\"norm of error\")\n",
    "# plt.loglog(N_arr, 1e-14 * (N_arr ** 2), label=\"$O(N^3)$\")\n",
    "\n",
    "plt.xlabel(\"$N$\")\n",
    "plt.ylabel(\"Norm of Error\")\n",
    "plt.legend(loc=\"upper left\")\n",
    "plt.title('Norm of Error between G.E. Implementation (Partial Pivoting) with Built-In for Various Sizes')\n",
    "\n",
    "plt.show()\n"
   ],
   "metadata": {
    "collapsed": false
   }
  },
  {
   "cell_type": "code",
   "execution_count": 258,
   "outputs": [
    {
     "data": {
      "text/plain": "<Figure size 640x480 with 1 Axes>",
      "image/png": "[encoded data removed]"
     },
     "metadata": {},
     "output_type": "display_data"
    }
   ],
   "source": [
    "plt.loglog(N_arr, my_time_list, 'o-', label=\"timing of implementation\")\n",
    "plt.loglog(N_arr, built_in_time_list, 'o-', label=\"timing of built-in\")\n",
    "# plt.loglog(N_arr, 1e-1 * (N_arr ** 2), label=\"$O(N^3)$\")\n",
    "\n",
    "plt.xlabel(\"$N$\")\n",
    "plt.ylabel(\"Time (s)\")\n",
    "plt.legend(loc=\"upper left\")\n",
    "plt.title(\"G.E. Implementation (Partial Pivoting) with Built-In G.E. Timings for Various Sizes\")\n",
    "\n",
    "plt.show()\n"
   ],
   "metadata": {
    "collapsed": false
   }
  },
  {
   "cell_type": "code",
   "execution_count": 256,
   "outputs": [],
   "source": [],
   "metadata": {
    "collapsed": false
   }
  }
 ],
 "metadata": {
  "kernelspec": {
   "display_name": "Python 3",
   "language": "python",
   "name": "python3"
  },
  "language_info": {
   "codemirror_mode": {
    "name": "ipython",
    "version": 2
   },
   "file_extension": ".py",
   "mimetype": "text/x-python",
   "name": "python",
   "nbconvert_exporter": "python",
   "pygments_lexer": "ipython2",
   "version": "2.7.6"
  }
 },
 "nbformat": 4,
 "nbformat_minor": 0
}
