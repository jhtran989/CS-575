{
 "cells": [
  {
   "cell_type": "code",
   "execution_count": null,
   "metadata": {},
   "outputs": [],
   "source": [
    "from numpy import *\n",
    "import numpy as np"
   ]
  },
  {
   "cell_type": "code",
   "execution_count": null,
   "metadata": {},
   "outputs": [],
   "source": [
    "#Classical GS\n",
    "\n",
    "def qr_cgs(A):\n",
    "    (m,n) = A.shape\n",
    "    Q = A.copy()\n",
    "    R = np.zeros((n,n))\n",
    "    for j in range(n):\n",
    "       \n",
    "        for i in range(j):\n",
    "            \n",
    "            R[i,j] = np.dot(Q[:,i],A[:,j])\n",
    "            Q[:,j] = Q[:,j] - R[i,j]*Q[:,i]\n",
    "        \n",
    "        R[j,j] = np.linalg.norm(Q[:,j])\n",
    "        Q[:,j] = Q[:,j]/R[j,j]\n",
    "       \n",
    "    return Q,R"
   ]
  },
  {
   "cell_type": "code",
   "execution_count": null,
   "metadata": {},
   "outputs": [],
   "source": [
    "#Modified GS - Version 1. \n",
    "\n",
    "def qr_mgs_ver_1(A):\n",
    "    #TODO\n",
    "        \n",
    "       \n",
    "    return Q,R\n"
   ]
  },
  {
   "cell_type": "code",
   "execution_count": null,
   "metadata": {},
   "outputs": [],
   "source": [
    "#Modified GS - Version 2. Notice the similarity to Classical GS.\n",
    "\n",
    "def qr_mgs_ver_2(A):\n",
    "    #TODO\n",
    "       \n",
    "    return Q,R"
   ]
  },
  {
   "cell_type": "code",
   "execution_count": null,
   "metadata": {},
   "outputs": [],
   "source": [
    "#Lets test the algorithms on a simple 2x2 system\n",
    "\n",
    "A = np.array([ [1.,2.], [3.,4.], [5.,6.] ])\n",
    "\n",
    "\n",
    "Q,R = qr_cgs(A)\n",
    "\n",
    "print('Q=',Q)\n",
    "print('R=',R)\n",
    "\n",
    "\n",
    "Q,R = qr_mgs_ver_1(A)\n",
    "\n",
    "print('Q=',Q)\n",
    "print('R=',R)\n",
    "\n",
    "\n",
    "Q,R = qr_mgs_ver_2(A)\n",
    "\n",
    "print('Q=',Q)\n",
    "print('R=',R)\n"
   ]
  },
  {
   "cell_type": "code",
   "execution_count": null,
   "metadata": {},
   "outputs": [],
   "source": [
    "#Lets test the algorithms on a matrix with nearly linearly dependent columns\n",
    "m = 200; n = 150\n",
    "a = np.random.normal(loc=0, scale=1, size=(m, 1))\n",
    "epsi = 1e-5\n",
    "b=a@np.ones((1,n))\n",
    "\n",
    "#The matrix A below has nearly linearly dependent columns\n",
    "A = np.multiply (  (a@np.ones((1,n))), np.ones((m,n))) + epsi*np.random.normal(loc=0, scale=1, size=(m, n))\n",
    "\n",
    "\n",
    "Q,R = qr_cgs(A)\n",
    "norm_of_A_minus_QR = np.linalg.norm(A-Q@R)\n",
    "norm_of_QTQ_minus_I = np.linalg.norm(Q.T@Q - np.identity(n))\n",
    "print('CGS: norm_of_A_minus_QR = ', norm_of_A_minus_QR, 'norm_of_QTQ_minus_I = ',norm_of_QTQ_minus_I)\n",
    "\n",
    "\n",
    "Q,R = qr_mgs_ver_1(A)\n",
    "norm_of_A_minus_QR = np.linalg.norm(A-Q@R)\n",
    "norm_of_QTQ_minus_I = np.linalg.norm(Q.T@Q - np.identity(n))\n",
    "print('MGS-ver1: norm_of_A_minus_QR = ', norm_of_A_minus_QR, 'norm_of_QTQ_minus_I = ',norm_of_QTQ_minus_I)\n",
    "\n",
    "Q,R = qr_mgs_ver_2(A)\n",
    "norm_of_A_minus_QR = np.linalg.norm(A-Q@R)\n",
    "norm_of_QTQ_minus_I = np.linalg.norm(Q.T@Q - np.identity(n))\n",
    "print('MGS-ver2: norm_of_A_minus_QR = ', norm_of_A_minus_QR, 'norm_of_QTQ_minus_I = ',norm_of_QTQ_minus_I)\n",
    "\n",
    "\n"
   ]
  },
  {
   "cell_type": "code",
   "execution_count": null,
   "metadata": {},
   "outputs": [],
   "source": []
  }
 ],
 "metadata": {
  "kernelspec": {
   "display_name": "Python 3 (ipykernel)",
   "language": "python",
   "name": "python3"
  },
  "language_info": {
   "codemirror_mode": {
    "name": "ipython",
    "version": 3
   },
   "file_extension": ".py",
   "mimetype": "text/x-python",
   "name": "python",
   "nbconvert_exporter": "python",
   "pygments_lexer": "ipython3",
   "version": "3.11.1"
  }
 },
 "nbformat": 4,
 "nbformat_minor": 4
}
