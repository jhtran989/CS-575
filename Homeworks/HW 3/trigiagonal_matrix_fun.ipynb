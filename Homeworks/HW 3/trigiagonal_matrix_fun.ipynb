{
 "cells": [
  {
   "cell_type": "code",
   "execution_count": 3,
   "metadata": {
    "tags": []
   },
   "outputs": [],
   "source": [
    "from numpy import *\n",
    "import numpy as np\n",
    "import time\n",
    "import matplotlib.pyplot as plt\n",
    "%matplotlib inline"
   ]
  },
  {
   "cell_type": "markdown",
   "metadata": {},
   "source": [
    "Lets consider a tri-diagonal matrix (similar to the one in poisson_1d, but having slightly different sub and super diagonals to distinguish the entries easily). There is no need to store the zeros. We store the matrix in a (N,3) array. Then the last (N-1) entries of the first column will contain the sub-diagonal, the N entries of the second column will contain the diagonal, and the  first (N-1) entries of the third column will contain the super-diagonal. (This ensures that all entries in the same row are in the same component. This is not necessary, and we could have stored the matrix in many other similar formats).\n",
    "\n",
    "\n"
   ]
  },
  {
   "cell_type": "code",
   "execution_count": 6,
   "metadata": {
    "tags": []
   },
   "outputs": [
    {
     "name": "stdout",
     "output_type": "stream",
     "text": [
      "[[ 0. 10. -4.]\n",
      " [-2. 10. -4.]\n",
      " [-2. 10. -4.]\n",
      " [-2. 10. -4.]\n",
      " [-2. 10.  0.]]\n"
     ]
    }
   ],
   "source": [
    "N = 5\n",
    "\n",
    "def create_tri_mat(N):\n",
    "    A_tri= np.zeros((N,3))\n",
    "    A_tri[1:N,0] = -2*np.ones((N-1,)) #sub-diagonal\n",
    "    A_tri[0:N,1] =  10*np.ones((N,))   #diagonal\n",
    "    A_tri[0:N-1,2] = -4*np.ones((N-1,))   #super-diagonal\n",
    "    return A_tri\n",
    "    \n",
    "A_tri = create_tri_mat(N)\n",
    "print(A_tri)"
   ]
  },
  {
   "cell_type": "markdown",
   "metadata": {},
   "source": [
    "Lets transform this matrix as a regular matrix. Of course we will never do this in practice, but this is a good exercise to understand how to access the entries in the matrix, and how to only loop over the non-zero entries. "
   ]
  },
  {
   "cell_type": "code",
   "execution_count": 5,
   "metadata": {
    "tags": []
   },
   "outputs": [
    {
     "name": "stdout",
     "output_type": "stream",
     "text": [
      "[[10. -4.  0.  0.  0.]\n",
      " [-2. 10. -4.  0.  0.]\n",
      " [ 0. -2. 10. -4.  0.]\n",
      " [ 0.  0. -2. 10. -4.]\n",
      " [ 0.  0.  0. -2. 10.]]\n"
     ]
    }
   ],
   "source": [
    "def create_dense_mat(A_tri,N):\n",
    "    \n",
    "    A_dense = np.zeros((N,N))\n",
    "    for i in range(N): # go over all rows\n",
    "        #only 3 non-zero entries in each row.\n",
    "        for j in range(i-1,i+2):  #This will go through entries (i,i-1), (i,i) and (i,i+1)\n",
    "            if j >= 0 and j <= N-1:\n",
    "                A_dense[i,j] = A_tri[i,j-i+1] #Make sure you understand the indexing\n",
    "    return A_dense\n",
    "            \n",
    "A_dense = create_dense_mat(A_tri,N)\n",
    "print(A_dense)\n",
    "            "
   ]
  },
  {
   "cell_type": "markdown",
   "metadata": {},
   "source": [
    "Similarly, we can write code for banded GE taking advantage of the above structure. This GE algorithm will run in time O($N$). Below we simply experiment with Mat-Vec. Recall this took O($N^2$) when the matrix was not banded."
   ]
  },
  {
   "cell_type": "code",
   "execution_count": 4,
   "metadata": {
    "tags": []
   },
   "outputs": [],
   "source": [
    "def tri_mat_vec(A_tri, x):\n",
    "    N = len(x)\n",
    "    y = np.zeros((N,))\n",
    "    for i in range(N): # go over all rows\n",
    "        for j in range(i-1,i+2):  #This will go through entries (i,i-1), (i,i) and (i,i+1)\n",
    "            if j >= 0 and j <= N-1:\n",
    "                y[i] += A_tri[i,j-i+1]*x[j]\n",
    "    return y\n",
    "    "
   ]
  },
  {
   "cell_type": "code",
   "execution_count": 13,
   "metadata": {
    "tags": []
   },
   "outputs": [],
   "source": [
    "N_arr = [3000,5000,10000,15000,20000,40000,80000,100000,200000]\n",
    "time_list = []\n",
    "\n",
    "for N in N_arr:\n",
    "    A_tri = create_tri_mat(N)\n",
    "    x = np.ones((N,))\n",
    "    \n",
    "    t_start = time.time()\n",
    "    y = tri_mat_vec(A_tri, x)\n",
    "    t_end = time.time()\n",
    "    time_list.append(t_end-t_start)\n",
    "    \n",
    "    #Lets verify we did not make a mistake for small N\n",
    "    if N < 50000:\n",
    "        y_true = create_dense_mat(A_tri,N) @ x\n",
    "        assert( np.linalg.norm(y-y_true,inf) < 1e-12)\n",
    "    "
   ]
  },
  {
   "cell_type": "code",
   "execution_count": 14,
   "metadata": {
    "tags": []
   },
   "outputs": [
    {
     "data": {
      "image/png": "[encoded data removed]",
      "text/plain": [
       "<Figure size 640x480 with 1 Axes>"
      ]
     },
     "metadata": {},
     "output_type": "display_data"
    }
   ],
   "source": [
    "\n",
    "plt.loglog(N_arr,time_list,'k-*',label='Observed')\n",
    "plt.loglog(N_arr,np.array(N_arr)*1e-4,'r-', label='O$(N)$')\n",
    "\n",
    "plt.xlabel('$N$')\n",
    "plt.ylabel('$Time$')\n",
    "\n",
    "plt.legend(loc='upper left')\n",
    "\n",
    "plt.show()\n"
   ]
  },
  {
   "cell_type": "code",
   "execution_count": null,
   "metadata": {},
   "outputs": [],
   "source": []
  }
 ],
 "metadata": {
  "kernelspec": {
   "display_name": "Python 3 (ipykernel)",
   "language": "python",
   "name": "python3"
  },
  "language_info": {
   "codemirror_mode": {
    "name": "ipython",
    "version": 3
   },
   "file_extension": ".py",
   "mimetype": "text/x-python",
   "name": "python",
   "nbconvert_exporter": "python",
   "pygments_lexer": "ipython3",
   "version": "3.11.1"
  }
 },
 "nbformat": 4,
 "nbformat_minor": 4
}
