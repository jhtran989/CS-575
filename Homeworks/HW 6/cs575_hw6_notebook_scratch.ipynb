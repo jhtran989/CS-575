{
 "cells": [
  {
   "cell_type": "code",
   "execution_count": 1,
   "metadata": {},
   "outputs": [],
   "source": [
    "from numpy import *\n",
    "import numpy as np"
   ]
  },
  {
   "cell_type": "code",
   "execution_count": 2,
   "metadata": {},
   "outputs": [],
   "source": [
    "# Classical GS\n",
    "\n",
    "def qr_cgs(A):\n",
    "    (m, n) = A.shape\n",
    "    Q = A.copy()\n",
    "    R = np.zeros((n, n))\n",
    "\n",
    "    for j in range(n):\n",
    "        for i in range(j):\n",
    "            R[i, j] = np.dot(Q[:, i], A[:, j])\n",
    "            Q[:, j] = Q[:, j] - R[i, j] * Q[:, i]\n",
    "\n",
    "        R[j, j] = np.linalg.norm(Q[:, j])\n",
    "        Q[:, j] = Q[:, j] / R[j, j]\n",
    "\n",
    "    return Q, R"
   ]
  },
  {
   "cell_type": "code",
   "execution_count": 3,
   "metadata": {},
   "outputs": [],
   "source": [
    "# Modified GS - Version 1.\n",
    "# Based on psuedocode provided to us\n",
    "\n",
    "def qr_mgs_ver_1(A):\n",
    "    (m, n) = A.shape\n",
    "    Q = A.copy()\n",
    "    R = np.zeros((n, n))\n",
    "\n",
    "    for j in range(n):\n",
    "        R[j, j] = np.linalg.norm(Q[:, j])\n",
    "        Q[:, j] = Q[:, j] / R[j, j]\n",
    "\n",
    "        for i in range(j + 1, n):\n",
    "            R[j, i] = np.dot(Q[:, j], Q[:, i])\n",
    "            Q[:, i] = Q[:, i] - R[j, i] * Q[:, j]\n",
    "\n",
    "    return Q, R\n"
   ]
  },
  {
   "cell_type": "code",
   "execution_count": 4,
   "metadata": {},
   "outputs": [],
   "source": [
    "# Modified GS - Version 2. Notice the similarity to Classical GS.\n",
    "# Based on psuedocode provided to us\n",
    "\n",
    "def qr_mgs_ver_2(A):\n",
    "    (m, n) = A.shape\n",
    "    Q = A.copy()\n",
    "    R = np.zeros((n, n))\n",
    "\n",
    "    for j in range(n):\n",
    "        for i in range(j):\n",
    "            R[i, j] = np.dot(Q[:, i], Q[:, j])\n",
    "            Q[:, j] = Q[:, j] - R[i, j] * Q[:, i]\n",
    "\n",
    "        R[j, j] = np.linalg.norm(Q[:, j])\n",
    "        Q[:, j] = Q[:, j] / R[j, j]\n",
    "\n",
    "    return Q, R"
   ]
  },
  {
   "cell_type": "code",
   "execution_count": 7,
   "metadata": {},
   "outputs": [
    {
     "name": "stdout",
     "output_type": "stream",
     "text": [
      "CGS\n",
      "Q= [[ 0.16903085  0.89708523]\n",
      " [ 0.50709255  0.27602622]\n",
      " [ 0.84515425 -0.34503278]]\n",
      "R= [[5.91607978 7.43735744]\n",
      " [0.         0.82807867]]\n",
      "MGS-ver1\n",
      "Q= [[ 0.16903085  0.89708523]\n",
      " [ 0.50709255  0.27602622]\n",
      " [ 0.84515425 -0.34503278]]\n",
      "R= [[5.91607978 7.43735744]\n",
      " [0.         0.82807867]]\n",
      "MGS-ver2\n",
      "Q= [[ 0.16903085  0.89708523]\n",
      " [ 0.50709255  0.27602622]\n",
      " [ 0.84515425 -0.34503278]]\n",
      "R= [[5.91607978 7.43735744]\n",
      " [0.         0.82807867]]\n"
     ]
    }
   ],
   "source": [
    "# part a\n",
    "# Lets test the algorithms on a simple 2x2 system\n",
    "\n",
    "A = np.array([[1., 2.], [3., 4.], [5., 6.]])\n",
    "\n",
    "Q, R = qr_cgs(A)\n",
    "\n",
    "print(\"CGS\")\n",
    "print('Q=', Q)\n",
    "print('R=', R)\n",
    "\n",
    "Q, R = qr_mgs_ver_1(A)\n",
    "\n",
    "print(\"MGS-ver1\")\n",
    "print('Q=', Q)\n",
    "print('R=', R)\n",
    "\n",
    "Q, R = qr_mgs_ver_2(A)\n",
    "\n",
    "print(\"MGS-ver2\")\n",
    "print('Q=', Q)\n",
    "print('R=', R)\n"
   ]
  },
  {
   "cell_type": "code",
   "execution_count": 6,
   "metadata": {},
   "outputs": [
    {
     "name": "stdout",
     "output_type": "stream",
     "text": [
      "CGS: norm_of_A_minus_QR =  6.600900888885555e-14 norm_of_QTQ_minus_I =  0.00036884231268251733\n",
      "MGS-ver1: norm_of_A_minus_QR =  6.429516872878607e-14 norm_of_QTQ_minus_I =  3.4243306240089034e-10\n",
      "MGS-ver2: norm_of_A_minus_QR =  6.429516872878607e-14 norm_of_QTQ_minus_I =  3.4243306240089034e-10\n"
     ]
    }
   ],
   "source": [
    "# part b\n",
    "# Lets test the algorithms on a matrix with nearly linearly dependent columns\n",
    "m = 200;\n",
    "n = 150\n",
    "a = np.random.normal(loc=0, scale=1, size=(m, 1))\n",
    "epsi = 1e-5\n",
    "b = a @ np.ones((1, n))\n",
    "\n",
    "#The matrix A below has nearly linearly dependent columns\n",
    "A = np.multiply((a @ np.ones((1, n))), np.ones((m, n))) + epsi * np.random.normal(loc=0, scale=1, size=(m, n))\n",
    "\n",
    "Q, R = qr_cgs(A)\n",
    "norm_of_A_minus_QR = np.linalg.norm(A - Q @ R)\n",
    "norm_of_QTQ_minus_I = np.linalg.norm(Q.T @ Q - np.identity(n))\n",
    "print('CGS: norm_of_A_minus_QR = ', norm_of_A_minus_QR, 'norm_of_QTQ_minus_I = ', norm_of_QTQ_minus_I)\n",
    "\n",
    "Q, R = qr_mgs_ver_1(A)\n",
    "norm_of_A_minus_QR = np.linalg.norm(A - Q @ R)\n",
    "norm_of_QTQ_minus_I = np.linalg.norm(Q.T @ Q - np.identity(n))\n",
    "print('MGS-ver1: norm_of_A_minus_QR = ', norm_of_A_minus_QR, 'norm_of_QTQ_minus_I = ', norm_of_QTQ_minus_I)\n",
    "\n",
    "Q, R = qr_mgs_ver_2(A)\n",
    "norm_of_A_minus_QR = np.linalg.norm(A - Q @ R)\n",
    "norm_of_QTQ_minus_I = np.linalg.norm(Q.T @ Q - np.identity(n))\n",
    "print('MGS-ver2: norm_of_A_minus_QR = ', norm_of_A_minus_QR, 'norm_of_QTQ_minus_I = ', norm_of_QTQ_minus_I)\n",
    "\n",
    "\n"
   ]
  },
  {
   "cell_type": "code",
   "execution_count": null,
   "metadata": {},
   "outputs": [],
   "source": [
    "\n"
   ]
  }
 ],
 "metadata": {
  "kernelspec": {
   "display_name": "Python 3 (ipykernel)",
   "language": "python",
   "name": "python3"
  },
  "language_info": {
   "codemirror_mode": {
    "name": "ipython",
    "version": 3
   },
   "file_extension": ".py",
   "mimetype": "text/x-python",
   "name": "python",
   "nbconvert_exporter": "python",
   "pygments_lexer": "ipython3",
   "version": "3.11.1"
  }
 },
 "nbformat": 4,
 "nbformat_minor": 4
}
